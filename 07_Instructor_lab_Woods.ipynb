{
 "cells": [
  {
   "cell_type": "markdown",
   "metadata": {},
   "source": [
    "# Week 7 Instructor-led Lab: Data Manipulation\n",
    "\n",
    "**Author**: Brady Woods  \n",
    "**Course**: BGEN632 Grad. Intro. to Python  \n",
    "**Term**: Spring 2025  \n",
    "**Date**: April 14, 2025  \n",
    "\n",
    "This notebook contains code exploring the data manipulation from the tutorial. \n"
   ]
  },
  {
   "cell_type": "markdown",
   "metadata": {},
   "source": [
    "## Import Modules"
   ]
  },
  {
   "cell_type": "code",
   "execution_count": 40,
   "metadata": {},
   "outputs": [],
   "source": [
    "import pandas as pd\n",
    "import os\n",
    "import pprint"
   ]
  },
  {
   "cell_type": "markdown",
   "metadata": {},
   "source": [
    "## Set Working Directory"
   ]
  },
  {
   "cell_type": "code",
   "execution_count": 9,
   "metadata": {},
   "outputs": [
    {
     "data": {
      "text/plain": [
       "'/Users/bradywoods/Desktop/week7labs/data'"
      ]
     },
     "execution_count": 9,
     "metadata": {},
     "output_type": "execute_result"
    }
   ],
   "source": [
    "os.chdir(\"/Users/bradywoods/Desktop/week7labs/data\")   #chaning directory# change the directory\n",
    "os.getcwd()      #verifying change"
   ]
  },
  {
   "cell_type": "markdown",
   "metadata": {},
   "source": [
    "## Accessing Data"
   ]
  },
  {
   "cell_type": "code",
   "execution_count": 10,
   "metadata": {},
   "outputs": [],
   "source": [
    "teams_data = pd.read_csv(\"github_teams.csv\")"
   ]
  },
  {
   "cell_type": "markdown",
   "metadata": {},
   "source": [
    "#### Getting column headers"
   ]
  },
  {
   "cell_type": "code",
   "execution_count": 11,
   "metadata": {},
   "outputs": [
    {
     "data": {
      "text/plain": [
       "Index(['name_h', 'Team_type', 'Team_size_class', 'human_members_count',\n",
       "       'bot_members_count', 'human_work', 'work_per_human', 'human_gini',\n",
       "       'human_Push', 'human_IssueComments', 'human_PRReviewComment',\n",
       "       'human_MergedPR', 'bot_work', 'bot_Push', 'bot_IssueComments',\n",
       "       'bot_PRReviewComment', 'bot_MergedPR', 'eval_survival_day_median',\n",
       "       'issues_count'],\n",
       "      dtype='object')"
      ]
     },
     "execution_count": 11,
     "metadata": {},
     "output_type": "execute_result"
    }
   ],
   "source": [
    "teams_data.columns"
   ]
  },
  {
   "cell_type": "markdown",
   "metadata": {},
   "source": [
    "#### Number of columns"
   ]
  },
  {
   "cell_type": "code",
   "execution_count": 12,
   "metadata": {},
   "outputs": [
    {
     "data": {
      "text/plain": [
       "19"
      ]
     },
     "execution_count": 12,
     "metadata": {},
     "output_type": "execute_result"
    }
   ],
   "source": [
    "teams_data.shape[1]"
   ]
  },
  {
   "cell_type": "markdown",
   "metadata": {},
   "source": [
    "#### Number of rows"
   ]
  },
  {
   "cell_type": "code",
   "execution_count": 13,
   "metadata": {},
   "outputs": [
    {
     "data": {
      "text/plain": [
       "608"
      ]
     },
     "execution_count": 13,
     "metadata": {},
     "output_type": "execute_result"
    }
   ],
   "source": [
    "teams_data.shape[0]"
   ]
  },
  {
   "cell_type": "markdown",
   "metadata": {},
   "source": [
    "#### Convert object columns to category "
   ]
  },
  {
   "cell_type": "code",
   "execution_count": 14,
   "metadata": {},
   "outputs": [],
   "source": [
    "for col in teams_data.select_dtypes(include='object').columns:\n",
    "    teams_data[col] = teams_data[col].astype('category')"
   ]
  },
  {
   "cell_type": "markdown",
   "metadata": {},
   "source": [
    "#### Finding unique values in `Team_type`"
   ]
  },
  {
   "cell_type": "code",
   "execution_count": 15,
   "metadata": {},
   "outputs": [
    {
     "data": {
      "text/plain": [
       "['human-bot', 'human']\n",
       "Categories (2, object): ['human', 'human-bot']"
      ]
     },
     "execution_count": 15,
     "metadata": {},
     "output_type": "execute_result"
    }
   ],
   "source": [
    "teams_data['Team_type'].unique()"
   ]
  },
  {
   "cell_type": "markdown",
   "metadata": {},
   "source": [
    "#### Finding unique values in `Team_size_class`"
   ]
  },
  {
   "cell_type": "code",
   "execution_count": 16,
   "metadata": {},
   "outputs": [
    {
     "data": {
      "text/plain": [
       "['Small', 'Large', 'Medium']\n",
       "Categories (3, object): ['Large', 'Medium', 'Small']"
      ]
     },
     "execution_count": 16,
     "metadata": {},
     "output_type": "execute_result"
    }
   ],
   "source": [
    "teams_data['Team_size_class'].unique()"
   ]
  },
  {
   "cell_type": "markdown",
   "metadata": {},
   "source": [
    "#### What is the value of the 63rd row and 6th column?"
   ]
  },
  {
   "cell_type": "code",
   "execution_count": 17,
   "metadata": {},
   "outputs": [
    {
     "data": {
      "text/plain": [
       "35"
      ]
     },
     "execution_count": 17,
     "metadata": {},
     "output_type": "execute_result"
    }
   ],
   "source": [
    "teams_data.iloc[62, 5]     #-1 because it is a 0 index"
   ]
  },
  {
   "cell_type": "markdown",
   "metadata": {},
   "source": [
    "#### What are the values for the 300th row?"
   ]
  },
  {
   "cell_type": "code",
   "execution_count": 18,
   "metadata": {},
   "outputs": [
    {
     "data": {
      "text/plain": [
       "name_h                      IyfocAGfAHLncCVJUujqTA/A_QZ6HlUb5sRQHhPa7SGzQ\n",
       "Team_type                                                       human-bot\n",
       "Team_size_class                                                    Medium\n",
       "human_members_count                                                     4\n",
       "bot_members_count                                                       1\n",
       "human_work                                                           1049\n",
       "work_per_human                                                     262.25\n",
       "human_gini                                                       0.448761\n",
       "human_Push                                                            739\n",
       "human_IssueComments                                                   213\n",
       "human_PRReviewComment                                                  91\n",
       "human_MergedPR                                                          6\n",
       "bot_work                                                               52\n",
       "bot_Push                                                                0\n",
       "bot_IssueComments                                                      52\n",
       "bot_PRReviewComment                                                     0\n",
       "bot_MergedPR                                                            0\n",
       "eval_survival_day_median                                             27.0\n",
       "issues_count                                                        243.0\n",
       "Name: 299, dtype: object"
      ]
     },
     "execution_count": 18,
     "metadata": {},
     "output_type": "execute_result"
    }
   ],
   "source": [
    "teams_data.iloc[299]"
   ]
  },
  {
   "cell_type": "markdown",
   "metadata": {},
   "source": [
    "#### Selecting row with index value 595 with 1st, 2nd, 3rd columns (3 Ways)"
   ]
  },
  {
   "cell_type": "code",
   "execution_count": 19,
   "metadata": {},
   "outputs": [
    {
     "data": {
      "text/plain": [
       "name_h             zAh1NECRCquqUJ_-1d6hAw/DET3jTK8hokYfY_neJ1IVQ\n",
       "Team_type                                              human-bot\n",
       "Team_size_class                                            Small\n",
       "Name: 595, dtype: object"
      ]
     },
     "execution_count": 19,
     "metadata": {},
     "output_type": "execute_result"
    }
   ],
   "source": [
    "teams_data.iloc[595, [0, 1, 2]]     #using a list of column numbers\n",
    "teams_data.iloc[595, range(3)]     #using a range of column numbers\n",
    "teams_data.loc[595, teams_data.columns[:3]]     #using a list of column names"
   ]
  },
  {
   "cell_type": "markdown",
   "metadata": {},
   "source": [
    "#### Selecting the row with index value 46 with the 3rd and 7th columns (2 ways)"
   ]
  },
  {
   "cell_type": "code",
   "execution_count": 20,
   "metadata": {},
   "outputs": [
    {
     "data": {
      "text/plain": [
       "Team_size_class       Medium\n",
       "work_per_human     31.833333\n",
       "Name: 46, dtype: object"
      ]
     },
     "execution_count": 20,
     "metadata": {},
     "output_type": "execute_result"
    }
   ],
   "source": [
    "teams_data.iloc[46, [2, 6]]     #using a list of column numbers\n",
    "teams_data.loc[46, [teams_data.columns[2], teams_data.columns[6]]]     #using a list of column names"
   ]
  },
  {
   "cell_type": "markdown",
   "metadata": {},
   "source": [
    "####  Creating a new DataFrame for the column `bot_work` (2 ways)"
   ]
  },
  {
   "cell_type": "code",
   "execution_count": null,
   "metadata": {},
   "outputs": [],
   "source": [
    "teams_bot_work1 = teams_data[['bot_work']].copy()     #copying the column\n",
    "teams_bot_work2 = pd.DataFrame(teams_data['bot_work'])     #copying the column through pandas"
   ]
  },
  {
   "cell_type": "code",
   "execution_count": 26,
   "metadata": {},
   "outputs": [
    {
     "data": {
      "text/plain": [
       "0      43\n",
       "1       0\n",
       "2       0\n",
       "3    1972\n",
       "4     302\n",
       "Name: bot_work, dtype: int64"
      ]
     },
     "execution_count": 26,
     "metadata": {},
     "output_type": "execute_result"
    }
   ],
   "source": [
    "teams_bot_work1['bot_work'].head(5)"
   ]
  },
  {
   "cell_type": "code",
   "execution_count": 27,
   "metadata": {},
   "outputs": [
    {
     "data": {
      "text/plain": [
       "0      43\n",
       "1       0\n",
       "2       0\n",
       "3    1972\n",
       "4     302\n",
       "Name: bot_work, dtype: int64"
      ]
     },
     "execution_count": 27,
     "metadata": {},
     "output_type": "execute_result"
    }
   ],
   "source": [
    "teams_bot_work2['bot_work'].head(5)"
   ]
  },
  {
   "cell_type": "markdown",
   "metadata": {},
   "source": [
    "## Sorting and Ordering"
   ]
  },
  {
   "cell_type": "markdown",
   "metadata": {},
   "source": [
    "#### Select `human-bot` teams that have a `bot_members_count` value greater than and equal to 2"
   ]
  },
  {
   "cell_type": "code",
   "execution_count": 42,
   "metadata": {},
   "outputs": [
    {
     "name": "stdout",
     "output_type": "stream",
     "text": [
      "                                            name_h  Team_type Team_size_class  \\\n",
      "3    _l5u7I5p4thtW5SjR_9_4w/aZNCdVXta7fh7eCMzZP1CA  human-bot           Large   \n",
      "4    _l5u7I5p4thtW5SjR_9_4w/m_FpD7PKQHqVXHn2bh7u2g  human-bot           Large   \n",
      "42   2-scMrZv13F95YPZmfieww/4Zc56iUYjIZrZU06omFrJw  human-bot           Large   \n",
      "84   4YoH8row044yJjPIqWJw9Q/NSXj3i61X71lV0StTN71Ww  human-bot           Small   \n",
      "89   5Is-_ie16OEGmW1arZm8qg/8UeSk2P76pTG7pPLtxsHTQ  human-bot           Large   \n",
      "110  7sA-8-nyqr0Ri2CT4-FSZw/GJPQoUhHfvUsxKcdkHWLEw  human-bot           Small   \n",
      "146  bi5TY2Z4OSQq3PMs6JnKYA/5wtZcUUo1XmLHIra8NDtFQ  human-bot          Medium   \n",
      "147  bi5TY2Z4OSQq3PMs6JnKYA/9b9IqkDK14ketwn88f3hKA  human-bot           Small   \n",
      "149  bi5TY2Z4OSQq3PMs6JnKYA/kIiAIJpk6lOa6Nxf234KkQ  human-bot           Small   \n",
      "224  FAhkB4rsocfDW0vrM8U8NA/3KHgTzOwWtAxTXlp_mbqoA  human-bot           Large   \n",
      "229  FAhkB4rsocfDW0vrM8U8NA/Tl_ZLGwQZrAi-GHyEKl_jA  human-bot           Large   \n",
      "231  FAhkB4rsocfDW0vrM8U8NA/zHikYkcLoXRCKt2cUrRvvg  human-bot           Large   \n",
      "268  hXoZRbHPbVxh--funPXSiw/iNU0l_SpKVjGfHOp8vUt8w  human-bot           Small   \n",
      "325  kpY6vTbIlrk6Nrjilv8zhw/o_e0F16zwdovR3aFgIQipQ  human-bot           Large   \n",
      "331  LDm8GbdhrDbcBGJF0dR_5g/-L63SLGp3n6MA-y5Di59og  human-bot           Large   \n",
      "345  MC6oqT7o22Y_rULWJZllfA/MXyVzmYYom7cgybNB0CjFQ  human-bot           Large   \n",
      "376  O8b2IFn80coqzdP6IwbEKg/uAklmRuq-bJgMfb-PuSjSg  human-bot          Medium   \n",
      "413  Q658evmRIuaDEnUGlBqzYw/m-hxXTPKmxu3fh32f-RHtg  human-bot           Small   \n",
      "441  ReeJIVTm1BiV_SO5tNDVFA/ZfIj2C4Weg8to684MM7PGA  human-bot           Large   \n",
      "472  sq4hB0bA5jL3X3tvK_-stg/5YplqVgfP__pUXTJ9SMoQA  human-bot          Medium   \n",
      "473  sq4hB0bA5jL3X3tvK_-stg/G5WoDm7Rms4zNbJ3nc6hZA  human-bot           Large   \n",
      "541  vPPJXk7AxaaZyPsmA3MniQ/euqt0qlPNtbUnKy41316mA  human-bot          Medium   \n",
      "568  X1pcjhqqelcsRxAhcbNu-w/HJ1fkoQOuwxXJ25L7FGEcw  human-bot          Medium   \n",
      "586  YQI5l7pwpiRU8KVKXkNjjg/fCxq0R6_z233Fdr2Ly6iug  human-bot          Medium   \n",
      "\n",
      "     human_members_count  bot_members_count  human_work  work_per_human  \\\n",
      "3                    234                 12       14579       62.303419   \n",
      "4                     38                  8        1625       42.763158   \n",
      "42                    23                  2        4648      202.086957   \n",
      "84                     2                  2         114       57.000000   \n",
      "89                    17                  4        7412      436.000000   \n",
      "110                    3                  2         244       81.333333   \n",
      "146                    4                  2         170       42.500000   \n",
      "147                    3                  2         189       63.000000   \n",
      "149                    3                  2          88       29.333333   \n",
      "224                   15                  2        4821      321.400000   \n",
      "229                   18                  2        2328      129.333333   \n",
      "231                   17                  2         816       48.000000   \n",
      "268                    2                  2         910      455.000000   \n",
      "325                   29                  2        2891       99.689655   \n",
      "331                   18                  2         840       46.666667   \n",
      "345                    7                  2        1421      203.000000   \n",
      "376                    4                  2          35        8.750000   \n",
      "413                    2                  2         256      128.000000   \n",
      "441                   15                  2        2211      147.400000   \n",
      "472                    4                  2         484      121.000000   \n",
      "473                   27                  2        2282       84.518519   \n",
      "541                    4                  2         297       74.250000   \n",
      "568                    5                  2         281       56.200000   \n",
      "586                    5                  2        1644      328.800000   \n",
      "\n",
      "     human_gini  human_Push  human_IssueComments  human_PRReviewComment  \\\n",
      "3      0.738342        1942                11430                   1170   \n",
      "4      0.666607         203                 1270                    152   \n",
      "42     0.560241         864                 2574                   1174   \n",
      "84     0.491228         114                    0                      0   \n",
      "89     0.439621        4182                 1257                   1917   \n",
      "110    0.502732         171                   73                      0   \n",
      "146    0.717647         144                    7                     19   \n",
      "147    0.624339         174                   10                      5   \n",
      "149    0.636364          74                    7                      7   \n",
      "224    0.689096        2564                 1801                    386   \n",
      "229    0.680126         573                  795                    960   \n",
      "231    0.683824         177                  447                    192   \n",
      "268    0.065934         207                  369                    334   \n",
      "325    0.752705         762                 1793                    302   \n",
      "331    0.579894         118                  603                    113   \n",
      "345    0.504072         444                  277                    644   \n",
      "376    0.350000          22                   13                      0   \n",
      "413    0.425781         230                    5                     21   \n",
      "441    0.544068         214                 1312                    685   \n",
      "472    0.626033         304                  180                      0   \n",
      "473    0.815302         933                 1275                     74   \n",
      "541    0.521044         275                    5                      0   \n",
      "568    0.422776          95                   94                     85   \n",
      "586    0.560341         214                  997                    433   \n",
      "\n",
      "     human_MergedPR  bot_work  bot_Push  bot_IssueComments  \\\n",
      "3                37      1972         0               1972   \n",
      "4                 0       302         0                302   \n",
      "42               36      1325         0               1325   \n",
      "84                0        37         0                 37   \n",
      "89               56       358         5                202   \n",
      "110               0       136         0                136   \n",
      "146               0       104         0                104   \n",
      "147               0       125         0                125   \n",
      "149               0        74         0                 74   \n",
      "224              70       270        90                116   \n",
      "229               0       117        12                 66   \n",
      "231               0       217        45                113   \n",
      "268               0       114         0                114   \n",
      "325              34       790         1                789   \n",
      "331               6        79         0                 79   \n",
      "345              56        77         0                 77   \n",
      "376               0        26         0                 26   \n",
      "413               0       118         0                118   \n",
      "441               0        50         0                 47   \n",
      "472               0       298         0                298   \n",
      "473               0       475         0                457   \n",
      "541              17       177         0                167   \n",
      "568               7        51         0                 51   \n",
      "586               0       684       251                433   \n",
      "\n",
      "     bot_PRReviewComment  bot_MergedPR  eval_survival_day_median  issues_count  \n",
      "3                      0             0                       1.0        4757.0  \n",
      "4                      0             0                       2.0         777.0  \n",
      "42                     0             0                      11.0        1635.0  \n",
      "84                     0             0                       0.0          14.0  \n",
      "89                   151             0                       2.0         495.0  \n",
      "110                    0             0                       1.0          41.0  \n",
      "146                    0             0                       NaN           NaN  \n",
      "147                    0             0                      35.0           9.0  \n",
      "149                    0             0                       NaN           NaN  \n",
      "224                   52            12                      13.0        1522.0  \n",
      "229                   39             0                      22.0         303.0  \n",
      "231                   59             0                      11.0         241.0  \n",
      "268                    0             0                       4.0          64.0  \n",
      "325                    0             0                       7.0        1283.0  \n",
      "331                    0             0                      16.0         369.0  \n",
      "345                    0             0                      19.0         124.0  \n",
      "376                    0             0                       NaN           NaN  \n",
      "413                    0             0                       0.0           7.0  \n",
      "441                    3             0                       9.0           6.0  \n",
      "472                    0             0                      12.0          92.0  \n",
      "473                    0            18                       2.0         603.0  \n",
      "541                    0            10                       0.0          20.0  \n",
      "568                    0             0                      64.0          25.0  \n",
      "586                    0             0                       4.0          45.0  \n"
     ]
    }
   ],
   "source": [
    "human_bot_2plus = teams_data[(teams_data['Team_type'] == 'human-bot') & (teams_data['bot_members_count'] >= 2)]\n",
    "pprint.pprint(human_bot_2plus)"
   ]
  },
  {
   "cell_type": "markdown",
   "metadata": {},
   "source": [
    "#### Find the `human` teams that are `Large` and have a `human_gini` value greater than and equal to 0.75"
   ]
  },
  {
   "cell_type": "code",
   "execution_count": null,
   "metadata": {},
   "outputs": [
    {
     "name": "stdout",
     "output_type": "stream",
     "text": [
      "                                           name_h  Team_type Team_size_class  \\\n",
      "3   _l5u7I5p4thtW5SjR_9_4w/aZNCdVXta7fh7eCMzZP1CA  human-bot           Large   \n",
      "4   _l5u7I5p4thtW5SjR_9_4w/m_FpD7PKQHqVXHn2bh7u2g  human-bot           Large   \n",
      "42  2-scMrZv13F95YPZmfieww/4Zc56iUYjIZrZU06omFrJw  human-bot           Large   \n",
      "84  4YoH8row044yJjPIqWJw9Q/NSXj3i61X71lV0StTN71Ww  human-bot           Small   \n",
      "89  5Is-_ie16OEGmW1arZm8qg/8UeSk2P76pTG7pPLtxsHTQ  human-bot           Large   \n",
      "\n",
      "    human_members_count  bot_members_count  human_work  work_per_human  \\\n",
      "3                   234                 12       14579       62.303419   \n",
      "4                    38                  8        1625       42.763158   \n",
      "42                   23                  2        4648      202.086957   \n",
      "84                    2                  2         114       57.000000   \n",
      "89                   17                  4        7412      436.000000   \n",
      "\n",
      "    human_gini  human_Push  human_IssueComments  human_PRReviewComment  \\\n",
      "3     0.738342        1942                11430                   1170   \n",
      "4     0.666607         203                 1270                    152   \n",
      "42    0.560241         864                 2574                   1174   \n",
      "84    0.491228         114                    0                      0   \n",
      "89    0.439621        4182                 1257                   1917   \n",
      "\n",
      "    human_MergedPR  bot_work  bot_Push  bot_IssueComments  \\\n",
      "3               37      1972         0               1972   \n",
      "4                0       302         0                302   \n",
      "42              36      1325         0               1325   \n",
      "84               0        37         0                 37   \n",
      "89              56       358         5                202   \n",
      "\n",
      "    bot_PRReviewComment  bot_MergedPR  eval_survival_day_median  issues_count  \n",
      "3                     0             0                       1.0        4757.0  \n",
      "4                     0             0                       2.0         777.0  \n",
      "42                    0             0                      11.0        1635.0  \n",
      "84                    0             0                       0.0          14.0  \n",
      "89                  151             0                       2.0         495.0  \n"
     ]
    }
   ],
   "source": [
    "gini75 = teams_data[(teams_data['Team_type'] == 'human') & (teams_data['human_gini'] >= 0.75)]\n",
    "pprint(gini75.head())"
   ]
  },
  {
   "cell_type": "markdown",
   "metadata": {},
   "source": [
    "#### How many teams are in the `Small` or `Large` category?"
   ]
  },
  {
   "cell_type": "code",
   "execution_count": 45,
   "metadata": {},
   "outputs": [
    {
     "name": "stdout",
     "output_type": "stream",
     "text": [
      "428\n"
     ]
    }
   ],
   "source": [
    "small_large_count = teams_data[teams_data['Team_size_class'].isin(['Small', 'Large'])].shape[0]\n",
    "print(small_large_count)"
   ]
  },
  {
   "cell_type": "markdown",
   "metadata": {},
   "source": [
    "#### How many teams are in the `Small` or `Large` cateogry with a `human_gini` value less than and equal to 0.20?"
   ]
  },
  {
   "cell_type": "code",
   "execution_count": 46,
   "metadata": {},
   "outputs": [
    {
     "name": "stdout",
     "output_type": "stream",
     "text": [
      "66\n"
     ]
    }
   ],
   "source": [
    "gini20 = teams_data[\n",
    "    (teams_data['Team_size_class'].isin(['Small', 'Large'])) &\n",
    "    (teams_data['human_gini'] <= 0.20)\n",
    "].shape[0]\n",
    "print(gini20)"
   ]
  },
  {
   "cell_type": "markdown",
   "metadata": {},
   "source": [
    "#### How many `human-bot` teams are in the `Medium` category?"
   ]
  },
  {
   "cell_type": "code",
   "execution_count": 47,
   "metadata": {},
   "outputs": [
    {
     "name": "stdout",
     "output_type": "stream",
     "text": [
      "84\n"
     ]
    }
   ],
   "source": [
    "med_human_bot = teams_data[\n",
    "    (teams_data['Team_type'] == 'human-bot') &\n",
    "    (teams_data['Team_size_class'] == 'Medium')\n",
    "].shape[0]\n",
    "print(med_human_bot)"
   ]
  },
  {
   "cell_type": "markdown",
   "metadata": {},
   "source": [
    "#### Create a subsample of 50% of your data."
   ]
  },
  {
   "cell_type": "code",
   "execution_count": 48,
   "metadata": {},
   "outputs": [
    {
     "name": "stdout",
     "output_type": "stream",
     "text": [
      "                                            name_h  Team_type Team_size_class  \\\n",
      "65   3VFbLRx-am2PA7KH0P_qQQ/JhvGB8Nzuc1DqysPsJ_2EA  human-bot           Small   \n",
      "237  FJmB0zbVT0ileOMUPtWRIQ/v2hyhTxDNjcQKAdrTbpb-g  human-bot           Small   \n",
      "147  bi5TY2Z4OSQq3PMs6JnKYA/9b9IqkDK14ketwn88f3hKA  human-bot           Small   \n",
      "465  spL8LX3lBfeOPK4bBuqFSA/bkk-seJ9inTX7FeK-3cKzw      human          Medium   \n",
      "187  dONQnlabJ76NyiesZDhgaw/5Z26n_sfY_gu_ELgILfddQ  human-bot           Small   \n",
      "\n",
      "     human_members_count  bot_members_count  human_work  work_per_human  \\\n",
      "65                     2                  1          79       39.500000   \n",
      "237                    3                  1           8        2.666667   \n",
      "147                    3                  2         189       63.000000   \n",
      "465                    6                  0         322       53.666667   \n",
      "187                    3                  1         195       65.000000   \n",
      "\n",
      "     human_gini  human_Push  human_IssueComments  human_PRReviewComment  \\\n",
      "65     0.322785           1                    0                     78   \n",
      "237    0.416667           8                    0                      0   \n",
      "147    0.624339         174                   10                      5   \n",
      "465    0.493789         169                   63                     83   \n",
      "187    0.608547         188                    0                      0   \n",
      "\n",
      "     human_MergedPR  bot_work  bot_Push  bot_IssueComments  \\\n",
      "65                0         8         5                  3   \n",
      "237               0        24        24                  0   \n",
      "147               0       125         0                125   \n",
      "465               7         0         0                  0   \n",
      "187               7        67         0                 67   \n",
      "\n",
      "     bot_PRReviewComment  bot_MergedPR  eval_survival_day_median  issues_count  \n",
      "65                     0             0                       NaN           NaN  \n",
      "237                    0             0                       NaN           NaN  \n",
      "147                    0             0                      35.0           9.0  \n",
      "465                    0             0                       NaN           NaN  \n",
      "187                    0             0                       0.0           6.0  \n"
     ]
    }
   ],
   "source": [
    "sample = teams_data.sample(frac=0.5, random_state=1)\n",
    "print(sample.head())"
   ]
  },
  {
   "cell_type": "markdown",
   "metadata": {},
   "source": [
    "#### Create samples for a 8-fold cross validation test"
   ]
  },
  {
   "cell_type": "code",
   "execution_count": 49,
   "metadata": {},
   "outputs": [
    {
     "name": "stdout",
     "output_type": "stream",
     "text": [
      "(76, 19)\n"
     ]
    }
   ],
   "source": [
    "folds = []\n",
    "for i in range(8):\n",
    "    fold = teams_data.sample(frac=1/8, random_state=i)\n",
    "    folds.append(fold)\n",
    "print(folds[0].shape)"
   ]
  },
  {
   "cell_type": "markdown",
   "metadata": {},
   "source": [
    "#### Select columns that are numeric and save it as a new DataFrame"
   ]
  },
  {
   "cell_type": "code",
   "execution_count": 50,
   "metadata": {},
   "outputs": [
    {
     "name": "stdout",
     "output_type": "stream",
     "text": [
      "   human_members_count  bot_members_count  human_work  work_per_human  \\\n",
      "0                    2                  1          66       33.000000   \n",
      "1                    2                  0          62       31.000000   \n",
      "2                    7                  0         211       30.142857   \n",
      "3                  234                 12       14579       62.303419   \n",
      "4                   38                  8        1625       42.763158   \n",
      "\n",
      "   human_gini  human_Push  human_IssueComments  human_PRReviewComment  \\\n",
      "0    0.287879          29                   33                      4   \n",
      "1    0.467742          62                    0                      0   \n",
      "2    0.499661         194                   16                      1   \n",
      "3    0.738342        1942                11430                   1170   \n",
      "4    0.666607         203                 1270                    152   \n",
      "\n",
      "   human_MergedPR  bot_work  bot_Push  bot_IssueComments  bot_PRReviewComment  \\\n",
      "0               0        43         0                 43                    0   \n",
      "1               0         0         0                  0                    0   \n",
      "2               0         0         0                  0                    0   \n",
      "3              37      1972         0               1972                    0   \n",
      "4               0       302         0                302                    0   \n",
      "\n",
      "   bot_MergedPR  eval_survival_day_median  issues_count  \n",
      "0             0                      87.0           8.0  \n",
      "1             0                       NaN           NaN  \n",
      "2             0                      37.0          46.0  \n",
      "3             0                       1.0        4757.0  \n",
      "4             0                       2.0         777.0  \n"
     ]
    }
   ],
   "source": [
    "numeric_columns = teams_data.select_dtypes(include='number')\n",
    "print(numeric_columns.head())"
   ]
  },
  {
   "cell_type": "markdown",
   "metadata": {},
   "source": [
    "#### Remove the columns `bot_PRReviewComment` and `bot_MergedPR` from the DataFrame"
   ]
  },
  {
   "cell_type": "code",
   "execution_count": 51,
   "metadata": {},
   "outputs": [
    {
     "name": "stdout",
     "output_type": "stream",
     "text": [
      "                                          name_h  Team_type Team_size_class  \\\n",
      "0  _1bqaxzCk0sfQaunsjeViQ/RCEZ3CASdLXbstu9y2JQ7Q  human-bot           Small   \n",
      "1  _9o07rGiC7DFyi-zm91Q0g/VOgMsrjYEwFAq0BY8kHqGQ      human           Small   \n",
      "2  _DzK53uaZXnAX3WcC0W28g/Epc4QWw5PNBQIIdvopEHDA      human           Large   \n",
      "3  _l5u7I5p4thtW5SjR_9_4w/aZNCdVXta7fh7eCMzZP1CA  human-bot           Large   \n",
      "4  _l5u7I5p4thtW5SjR_9_4w/m_FpD7PKQHqVXHn2bh7u2g  human-bot           Large   \n",
      "\n",
      "   human_members_count  bot_members_count  human_work  work_per_human  \\\n",
      "0                    2                  1          66       33.000000   \n",
      "1                    2                  0          62       31.000000   \n",
      "2                    7                  0         211       30.142857   \n",
      "3                  234                 12       14579       62.303419   \n",
      "4                   38                  8        1625       42.763158   \n",
      "\n",
      "   human_gini  human_Push  human_IssueComments  human_PRReviewComment  \\\n",
      "0    0.287879          29                   33                      4   \n",
      "1    0.467742          62                    0                      0   \n",
      "2    0.499661         194                   16                      1   \n",
      "3    0.738342        1942                11430                   1170   \n",
      "4    0.666607         203                 1270                    152   \n",
      "\n",
      "   human_MergedPR  bot_work  bot_Push  bot_IssueComments  \\\n",
      "0               0        43         0                 43   \n",
      "1               0         0         0                  0   \n",
      "2               0         0         0                  0   \n",
      "3              37      1972         0               1972   \n",
      "4               0       302         0                302   \n",
      "\n",
      "   eval_survival_day_median  issues_count  \n",
      "0                      87.0           8.0  \n",
      "1                       NaN           NaN  \n",
      "2                      37.0          46.0  \n",
      "3                       1.0        4757.0  \n",
      "4                       2.0         777.0  \n"
     ]
    }
   ],
   "source": [
    "teams_data_dropped = teams_data.drop(columns=['bot_PRReviewComment', 'bot_MergedPR'])\n",
    "print(teams_data_dropped.head())"
   ]
  },
  {
   "cell_type": "markdown",
   "metadata": {},
   "source": [
    "#### Save the columns `Team_size_class` and `human_members_count` as a new DataFrame"
   ]
  },
  {
   "cell_type": "code",
   "execution_count": 52,
   "metadata": {},
   "outputs": [],
   "source": [
    "size_and_members = teams_data[['Team_size_class', 'human_members_count']].copy()"
   ]
  },
  {
   "cell_type": "markdown",
   "metadata": {},
   "source": [
    "#### Rename these two columns in the new DataFrame"
   ]
  },
  {
   "cell_type": "code",
   "execution_count": 53,
   "metadata": {},
   "outputs": [
    {
     "name": "stdout",
     "output_type": "stream",
     "text": [
      "  TeamSize  HumanCount\n",
      "0    Small           2\n",
      "1    Small           2\n",
      "2    Large           7\n",
      "3    Large         234\n",
      "4    Large          38\n"
     ]
    }
   ],
   "source": [
    "size_and_members.columns = ['TeamSize', 'HumanCount']\n",
    "print(size_and_members.head())"
   ]
  }
 ],
 "metadata": {
  "kernelspec": {
   "display_name": "base",
   "language": "python",
   "name": "python3"
  },
  "language_info": {
   "codemirror_mode": {
    "name": "ipython",
    "version": 3
   },
   "file_extension": ".py",
   "mimetype": "text/x-python",
   "name": "python",
   "nbconvert_exporter": "python",
   "pygments_lexer": "ipython3",
   "version": "3.12.4"
  }
 },
 "nbformat": 4,
 "nbformat_minor": 2
}
